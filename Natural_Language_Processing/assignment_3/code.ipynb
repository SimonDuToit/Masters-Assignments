{
 "cells": [
  {
   "cell_type": "code",
   "execution_count": 648,
   "id": "8dbf3bdc",
   "metadata": {},
   "outputs": [],
   "source": [
    "import numpy as np\n",
    "import pandas as pd\n",
    "import torch\n",
    "import torch.nn as nn\n",
    "import re\n",
    "import unicodedata\n",
    "from torch.utils.data import Dataset, TensorDataset, DataLoader\n",
    "import matplotlib.pyplot as plt\n",
    "from sklearn.manifold import TSNE\n",
    "from sklearn.metrics import confusion_matrix, ConfusionMatrixDisplay"
   ]
  },
  {
   "cell_type": "code",
   "execution_count": 443,
   "id": "3a9b299d",
   "metadata": {},
   "outputs": [],
   "source": [
    "# load data\n",
    "train_df = pd.read_csv('data/train.csv')\n",
    "\n",
    "# train validation split\n",
    "from sklearn.model_selection import train_test_split\n",
    "train_df, validation_df = train_test_split(train_df, test_size=0.2)"
   ]
  },
  {
   "cell_type": "code",
   "execution_count": 444,
   "id": "e4a30603",
   "metadata": {},
   "outputs": [
    {
     "data": {
      "text/html": [
       "<div>\n",
       "<style scoped>\n",
       "    .dataframe tbody tr th:only-of-type {\n",
       "        vertical-align: middle;\n",
       "    }\n",
       "\n",
       "    .dataframe tbody tr th {\n",
       "        vertical-align: top;\n",
       "    }\n",
       "\n",
       "    .dataframe thead th {\n",
       "        text-align: right;\n",
       "    }\n",
       "</style>\n",
       "<table border=\"1\" class=\"dataframe\">\n",
       "  <thead>\n",
       "    <tr style=\"text-align: right;\">\n",
       "      <th></th>\n",
       "      <th>Class Index</th>\n",
       "      <th>Title</th>\n",
       "      <th>Description</th>\n",
       "    </tr>\n",
       "  </thead>\n",
       "  <tbody>\n",
       "    <tr>\n",
       "      <th>48964</th>\n",
       "      <td>3</td>\n",
       "      <td>Nintendo Raises Net Profit Estimate</td>\n",
       "      <td>OSAKA (Reuters) - Japanese game maker Nintend...</td>\n",
       "    </tr>\n",
       "    <tr>\n",
       "      <th>36810</th>\n",
       "      <td>3</td>\n",
       "      <td>Computer Associates settles charges; ex-CEO in...</td>\n",
       "      <td>NEW YORK, September 23 (newratings.com) - The ...</td>\n",
       "    </tr>\n",
       "    <tr>\n",
       "      <th>112401</th>\n",
       "      <td>1</td>\n",
       "      <td>Maathai accepts Nobel Peace Prize</td>\n",
       "      <td>The first African woman to win the Nobel Peace...</td>\n",
       "    </tr>\n",
       "    <tr>\n",
       "      <th>93739</th>\n",
       "      <td>1</td>\n",
       "      <td>India ; No division of Kashmir on basis of rel...</td>\n",
       "      <td>He was reacting to a question on Musharraf #39...</td>\n",
       "    </tr>\n",
       "    <tr>\n",
       "      <th>79016</th>\n",
       "      <td>3</td>\n",
       "      <td>St George lifted by lending</td>\n",
       "      <td>ST GEORGE Bank has continued to post big gains...</td>\n",
       "    </tr>\n",
       "  </tbody>\n",
       "</table>\n",
       "</div>"
      ],
      "text/plain": [
       "        Class Index                                              Title  \\\n",
       "48964             3                Nintendo Raises Net Profit Estimate   \n",
       "36810             3  Computer Associates settles charges; ex-CEO in...   \n",
       "112401            1                  Maathai accepts Nobel Peace Prize   \n",
       "93739             1  India ; No division of Kashmir on basis of rel...   \n",
       "79016             3                        St George lifted by lending   \n",
       "\n",
       "                                              Description  \n",
       "48964    OSAKA (Reuters) - Japanese game maker Nintend...  \n",
       "36810   NEW YORK, September 23 (newratings.com) - The ...  \n",
       "112401  The first African woman to win the Nobel Peace...  \n",
       "93739   He was reacting to a question on Musharraf #39...  \n",
       "79016   ST GEORGE Bank has continued to post big gains...  "
      ]
     },
     "execution_count": 444,
     "metadata": {},
     "output_type": "execute_result"
    }
   ],
   "source": [
    "train_df.head()"
   ]
  },
  {
   "cell_type": "code",
   "execution_count": 445,
   "id": "ad85ed8a",
   "metadata": {},
   "outputs": [],
   "source": [
    "# data normalization\n",
    "train = []\n",
    "for sentence in list(train_df.Description):\n",
    "    sentence = re.sub('\\.', ' ', sentence)\n",
    "    sentence = re.sub('-', ' ', sentence)\n",
    "    sentence = re.sub('\\\\\\\\', ' ', sentence)\n",
    "    sentence = sentence.lower()\n",
    "    sentence = unicodedata.normalize('NFD', sentence)\n",
    "    sentence = re.sub('[^a-z0 ]', '', sentence)\n",
    "    sentence = sentence.strip()        \n",
    "    words = re.split(' ', sentence)\n",
    "    words = [w for w in words if w]\n",
    "    train += [words]"
   ]
  },
  {
   "cell_type": "code",
   "execution_count": 446,
   "id": "b9ba2196",
   "metadata": {},
   "outputs": [],
   "source": [
    "# create vocabulary\n",
    "vocab = []\n",
    "for words in train:\n",
    "    vocab += words\n",
    "vocab = list(set(vocab))\n",
    "v_size = len(vocab)"
   ]
  },
  {
   "cell_type": "code",
   "execution_count": 447,
   "id": "27432292",
   "metadata": {},
   "outputs": [],
   "source": [
    "# create vocab hash table for fast indexing\n",
    "lookup = {}\n",
    "for i in range(len(vocab)):\n",
    "    lookup[vocab[i]] = i"
   ]
  },
  {
   "cell_type": "code",
   "execution_count": 448,
   "id": "f908fefb",
   "metadata": {},
   "outputs": [
    {
     "data": {
      "text/plain": [
       "3668966"
      ]
     },
     "execution_count": 448,
     "metadata": {},
     "output_type": "execute_result"
    }
   ],
   "source": [
    "# calculate co-occurence counts\n",
    "counts = {}\n",
    "w_size = 3\n",
    "\n",
    "for words in train:\n",
    "    for i in range(0, len(words)):\n",
    "        for j in range(max(i-w_size,0), min(i+w_size,len(words))):\n",
    "            if j != i:\n",
    "                key = (lookup[words[i]], lookup[words[j]])\n",
    "                counts[key] = counts.setdefault(key, 0) + 1\n",
    "len(counts)               "
   ]
  },
  {
   "cell_type": "code",
   "execution_count": 450,
   "id": "7e44a441",
   "metadata": {},
   "outputs": [],
   "source": [
    "# GloVe model\n",
    "e_size = 100\n",
    "b_size = 2048\n",
    "    \n",
    "class glove(nn.Module):\n",
    "    def __init__(self, v_size, e_size):\n",
    "        super().__init__()\n",
    "        self.V = nn.Embedding(v_size, e_size, sparse=False)\n",
    "        self.V_bias = nn.Parameter(torch.zeros((v_size,1)))\n",
    "        self.U = nn.Embedding(v_size, e_size, sparse=False)\n",
    "        self.U_bias = nn.Parameter(torch.zeros((v_size,1)))\n",
    "        self.h = lambda x: torch.min(torch.vstack(((x/100)**0.75, torch.ones(x.shape[0]))), dim=0).values\n",
    "    \n",
    "    def forward(self, data):\n",
    "        b_size = data[0].shape[0]\n",
    "        c = data[0][:,0]\n",
    "        o = data[0][:,1]\n",
    "        v = self.V(c)\n",
    "        u = self.U(o)\n",
    "        f = torch.sum((u * v), dim=1) + self.V_bias[c].flatten() + self.U_bias[o].flatten()   \n",
    "        count = torch.empty(b_size)\n",
    "        for i in range(b_size):\n",
    "            count[i] = counts[(c[i].item(), o[i].item())]\n",
    "        loss = self.h(count)*(f - np.log(count))**2\n",
    "        return loss.sum()"
   ]
  },
  {
   "cell_type": "code",
   "execution_count": 451,
   "id": "51671d28",
   "metadata": {},
   "outputs": [],
   "source": [
    "dataset = TensorDataset(torch.tensor(list(counts.keys())))\n",
    "loader = DataLoader(dataset, shuffle=True, batch_size = b_size)\n",
    "model = glove(v_size, e_size)\n",
    "optimizer = torch.optim.Adam(model.parameters(), lr=0.01)"
   ]
  },
  {
   "cell_type": "code",
   "execution_count": 453,
   "id": "939eff4d",
   "metadata": {},
   "outputs": [
    {
     "name": "stdout",
     "output_type": "stream",
     "text": [
      "[1,   500] loss: 8434.056\n",
      "[1,  1000] loss: 3728.835\n",
      "[1,  1500] loss: 2171.787\n",
      "[2,   500] loss: 927.213\n",
      "[2,  1000] loss: 832.745\n",
      "[2,  1500] loss: 729.922\n",
      "[3,   500] loss: 881.794\n",
      "[3,  1000] loss: 821.969\n",
      "[3,  1500] loss: 770.503\n",
      "[4,   500] loss: 784.686\n",
      "[4,  1000] loss: 714.730\n",
      "[4,  1500] loss: 657.785\n",
      "[5,   500] loss: 605.468\n",
      "[5,  1000] loss: 559.510\n",
      "[5,  1500] loss: 519.585\n",
      "[6,   500] loss: 499.285\n",
      "[6,  1000] loss: 454.487\n",
      "[6,  1500] loss: 422.302\n",
      "[7,   500] loss: 432.860\n",
      "[7,  1000] loss: 392.943\n",
      "[7,  1500] loss: 368.777\n",
      "[8,   500] loss: 374.967\n",
      "[8,  1000] loss: 341.585\n",
      "[8,  1500] loss: 312.100\n",
      "[9,   500] loss: 330.571\n",
      "[9,  1000] loss: 297.644\n",
      "[9,  1500] loss: 276.138\n",
      "[10,   500] loss: 292.460\n",
      "[10,  1000] loss: 261.192\n",
      "[10,  1500] loss: 242.679\n",
      "Finished Training\n"
     ]
    }
   ],
   "source": [
    "# train GloVe embeddings\n",
    "model.train()\n",
    "for epoch in range(10):\n",
    "    running_loss = 0.0\n",
    "    for i, data in enumerate(loader, 0):\n",
    "        # zero the parameter gradients\n",
    "        optimizer.zero_grad()\n",
    "\n",
    "        # forward + backward + optimize\n",
    "        loss = model(data)\n",
    "        loss.backward()\n",
    "        optimizer.step()\n",
    "\n",
    "        # print statistics\n",
    "        running_loss += loss.item()\n",
    "        if i % 500 == 499:    # print every 2000 mini-batches\n",
    "            print(f'[{epoch + 1}, {i + 1:5d}] loss: {running_loss / 500:.3f}')\n",
    "            running_loss = 0.0\n",
    "\n",
    "print('Finished Training')"
   ]
  },
  {
   "cell_type": "code",
   "execution_count": 480,
   "id": "208a2090",
   "metadata": {},
   "outputs": [
    {
     "data": {
      "text/plain": [
       "(58339, 100)"
      ]
     },
     "execution_count": 480,
     "metadata": {},
     "output_type": "execute_result"
    }
   ],
   "source": [
    "# get word embeddings\n",
    "embeddings = model.V.weight.detach().numpy() + model.U.weight.detach().numpy()\n",
    "embeddings.shape"
   ]
  },
  {
   "cell_type": "code",
   "execution_count": 455,
   "id": "810c1d62",
   "metadata": {},
   "outputs": [
    {
     "name": "stderr",
     "output_type": "stream",
     "text": [
      "C:\\Users\\simon\\anaconda3\\envs\\MachineLearning\\lib\\site-packages\\sklearn\\manifold\\_t_sne.py:800: FutureWarning: The default initialization in TSNE will change from 'random' to 'pca' in 1.2.\n",
      "  warnings.warn(\n",
      "C:\\Users\\simon\\anaconda3\\envs\\MachineLearning\\lib\\site-packages\\sklearn\\manifold\\_t_sne.py:810: FutureWarning: The default learning rate in TSNE will change from 200.0 to 'auto' in 1.2.\n",
      "  warnings.warn(\n"
     ]
    }
   ],
   "source": [
    "# create 2D projections\n",
    "tsne = TSNE(n_components=2, random_state=0)\n",
    "two_d_embeddings = tsne.fit_transform(embeddings)"
   ]
  },
  {
   "cell_type": "code",
   "execution_count": 599,
   "id": "15985727",
   "metadata": {},
   "outputs": [],
   "source": [
    "# plot projections\n",
    "def visualize_embeddings(two_d_embeddings, words):\n",
    "    plt.figure(figsize=(7, 7))\n",
    "    for i, word in enumerate(words):\n",
    "        x, y = two_d_embeddings[i, :]\n",
    "        plt.scatter(x, y)\n",
    "        plt.annotate(word, (x, y), xytext=(5, 2), textcoords=\"offset points\", ha=\"right\", va=\"bottom\")\n",
    "    plt.show()"
   ]
  },
  {
   "cell_type": "code",
   "execution_count": 594,
   "id": "cf371003",
   "metadata": {},
   "outputs": [
    {
     "data": {
      "text/plain": [
       "30467"
      ]
     },
     "execution_count": 594,
     "metadata": {},
     "output_type": "execute_result"
    }
   ],
   "source": [
    "lookup[\"seoul\"]"
   ]
  },
  {
   "cell_type": "code",
   "execution_count": 595,
   "id": "fb73eb11",
   "metadata": {},
   "outputs": [],
   "source": [
    "# visualize a selection of words from different topics\n",
    "indexlist = [49697,41511,19547,41801,38394,7904,29812,11234,31590,30467,\n",
    "             23545, 21528, 35751,\n",
    "             12678,2263]"
   ]
  },
  {
   "cell_type": "code",
   "execution_count": 600,
   "id": "c8854d4d",
   "metadata": {},
   "outputs": [
    {
     "data": {
      "image/png": "[encoded data removed]",
      "text/plain": [
       "<Figure size 700x700 with 1 Axes>"
      ]
     },
     "metadata": {},
     "output_type": "display_data"
    }
   ],
   "source": [
    "visualize_embeddings(two_d_embeddings[indexlist], np.asarray(vocab)[indexlist])"
   ]
  },
  {
   "cell_type": "code",
   "execution_count": 601,
   "id": "d2c61e46",
   "metadata": {},
   "outputs": [],
   "source": [
    "# calculate Euclidean distance between word embeddings\n",
    "def distance(a, b):\n",
    "    return np.linalg.norm(embeddings[lookup[a]] - embeddings[lookup[b]])"
   ]
  },
  {
   "cell_type": "code",
   "execution_count": 654,
   "id": "b8626067",
   "metadata": {},
   "outputs": [
    {
     "data": {
      "text/plain": [
       "6.847945"
      ]
     },
     "execution_count": 654,
     "metadata": {},
     "output_type": "execute_result"
    }
   ],
   "source": [
    "distance('biology', 'baseball')"
   ]
  },
  {
   "cell_type": "code",
   "execution_count": 608,
   "id": "5861b9f2",
   "metadata": {},
   "outputs": [],
   "source": [
    "# create sentence embeddings by averaging over word embeddings\n",
    "sentence_embeddings = np.zeros((len(train), e_size))\n",
    "for i, sentence in enumerate(train):\n",
    "    for word in sentence:\n",
    "        sentence_embeddings[i] += embeddings[lookup[word]]\n",
    "    sentence_embeddings[i] /= len(sentence)"
   ]
  },
  {
   "cell_type": "code",
   "execution_count": 628,
   "id": "1ff24e50",
   "metadata": {},
   "outputs": [],
   "source": [
    "class SentenceDataset(Dataset):\n",
    "    def __init__(self, embeddings):\n",
    "        self.sentence_embeddings = torch.tensor(embeddings).to(torch.float32)\n",
    "\n",
    "    def __len__(self):\n",
    "        return len(self.sentence_embeddings)\n",
    "\n",
    "    def __getitem__(self, idx):\n",
    "        return self.sentence_embeddings[idx], np.asarray(train_df['Class Index'])[idx]-1"
   ]
  },
  {
   "cell_type": "code",
   "execution_count": 629,
   "id": "1f96208e",
   "metadata": {},
   "outputs": [],
   "source": [
    "# topic classifier model\n",
    "topic_classifier = nn.Sequential(\n",
    "          nn.Linear(e_size, 256),\n",
    "          nn.ReLU(),\n",
    "          nn.Linear(256, 512),\n",
    "          nn.ReLU(),\n",
    "          nn.Linear(512, 256),\n",
    "          nn.ReLU(),\n",
    "          nn.Linear(256, 4),\n",
    "        )"
   ]
  },
  {
   "cell_type": "code",
   "execution_count": 627,
   "id": "9f394611",
   "metadata": {},
   "outputs": [
    {
     "data": {
      "text/plain": [
       "array([3, 3, 1, ..., 2, 4, 3], dtype=int64)"
      ]
     },
     "execution_count": 627,
     "metadata": {},
     "output_type": "execute_result"
    }
   ],
   "source": [
    "np.asarray(train_df['Class Index'])"
   ]
  },
  {
   "cell_type": "code",
   "execution_count": 630,
   "id": "a7fc69e0",
   "metadata": {},
   "outputs": [],
   "source": [
    "s_dataset = SentenceDataset(sentence_embeddings)\n",
    "s_loader = DataLoader(s_dataset, shuffle=True, batch_size = 64)\n",
    "optimizer = torch.optim.Adam(topic_classifier.parameters())\n",
    "criterion = nn.CrossEntropyLoss()"
   ]
  },
  {
   "cell_type": "code",
   "execution_count": 631,
   "id": "070c77f0",
   "metadata": {},
   "outputs": [
    {
     "name": "stdout",
     "output_type": "stream",
     "text": [
      "[1,   600] loss: 0.667\n",
      "[1,  1200] loss: 0.591\n",
      "[2,   600] loss: 0.539\n",
      "[2,  1200] loss: 0.531\n",
      "[3,   600] loss: 0.495\n",
      "[3,  1200] loss: 0.500\n",
      "Finished Training\n"
     ]
    }
   ],
   "source": [
    "# train topic classifier model\n",
    "topic_classifier.train()\n",
    "for epoch in range(3):\n",
    "    running_loss = 0.0\n",
    "    for i, data in enumerate(s_loader, 0):\n",
    "        \n",
    "        embedding, labels = data\n",
    "        \n",
    "        # zero the parameter gradients\n",
    "        optimizer.zero_grad()\n",
    "\n",
    "        # forward + backward + optimize\n",
    "        out = topic_classifier(embedding)\n",
    "        loss = criterion(out, labels)\n",
    "        loss.backward()\n",
    "        optimizer.step()\n",
    "\n",
    "        # print statistics\n",
    "        running_loss += loss.item()\n",
    "        if i % 600 == 599:    # print every 2000 mini-batches\n",
    "            print(f'[{epoch + 1}, {i + 1:5d}] loss: {running_loss / 600:.3f}')\n",
    "            running_loss = 0.0\n",
    "\n",
    "print('Finished Training')"
   ]
  },
  {
   "cell_type": "code",
   "execution_count": 634,
   "id": "2f73ce38",
   "metadata": {},
   "outputs": [],
   "source": [
    "# clean validation data\n",
    "val = []\n",
    "for sentence in list(validation_df.Description):\n",
    "    sentence = re.sub('\\.', ' ', sentence)\n",
    "    sentence = re.sub('-', ' ', sentence)\n",
    "    sentence = re.sub('\\\\\\\\', ' ', sentence)\n",
    "    sentence = sentence.lower()\n",
    "    sentence = unicodedata.normalize('NFD', sentence)\n",
    "    sentence = re.sub('[^a-z0 ]', '', sentence)\n",
    "    sentence = sentence.strip()        \n",
    "    words = re.split(' ', sentence)\n",
    "    words = [w for w in words if w in lookup]\n",
    "    val += [words]"
   ]
  },
  {
   "cell_type": "code",
   "execution_count": 635,
   "id": "608ba1c2",
   "metadata": {},
   "outputs": [
    {
     "name": "stderr",
     "output_type": "stream",
     "text": [
      "C:\\Users\\simon\\AppData\\Local\\Temp\\ipykernel_7824\\2657220331.py:5: RuntimeWarning: invalid value encountered in true_divide\n",
      "  val_sentence_embeddings[i] /= len(sentence)\n"
     ]
    }
   ],
   "source": [
    "val_sentence_embeddings = np.zeros((len(val), e_size))\n",
    "for i, sentence in enumerate(val):\n",
    "    for word in sentence:\n",
    "        val_sentence_embeddings[i] += embeddings[lookup[word]]\n",
    "    val_sentence_embeddings[i] /= len(sentence)"
   ]
  },
  {
   "cell_type": "code",
   "execution_count": 636,
   "id": "1c797257",
   "metadata": {},
   "outputs": [],
   "source": [
    "# evaluate model on validation set\n",
    "val_out = topic_classifier(torch.tensor(val_sentence_embeddings).to(torch.float32)).detach().numpy()"
   ]
  },
  {
   "cell_type": "code",
   "execution_count": 638,
   "id": "fd238dd3",
   "metadata": {},
   "outputs": [
    {
     "data": {
      "text/plain": [
       "0.810625"
      ]
     },
     "execution_count": 638,
     "metadata": {},
     "output_type": "execute_result"
    }
   ],
   "source": [
    "(np.argmax(val_out, axis=1) == (np.asarray(validation_df['Class Index'])-1)).mean()"
   ]
  },
  {
   "cell_type": "code",
   "execution_count": 639,
   "id": "c1e36988",
   "metadata": {},
   "outputs": [],
   "source": [
    "# clean test data\n",
    "test_df = pd.read_csv('data/test.csv')\n",
    "test = []\n",
    "for sentence in list(test_df.Description):\n",
    "    sentence = re.sub('\\.', ' ', sentence)\n",
    "    sentence = re.sub('-', ' ', sentence)\n",
    "    sentence = re.sub('\\\\\\\\', ' ', sentence)\n",
    "    sentence = sentence.lower()\n",
    "    sentence = unicodedata.normalize('NFD', sentence)\n",
    "    sentence = re.sub('[^a-z0 ]', '', sentence)\n",
    "    sentence = sentence.strip()        \n",
    "    words = re.split(' ', sentence)\n",
    "    words = [w for w in words if w in lookup]\n",
    "    test += [words]"
   ]
  },
  {
   "cell_type": "code",
   "execution_count": 640,
   "id": "ef4272c9",
   "metadata": {},
   "outputs": [],
   "source": [
    "test_sentence_embeddings = np.zeros((len(test), e_size))\n",
    "for i, sentence in enumerate(test):\n",
    "    for word in sentence:\n",
    "        test_sentence_embeddings[i] += embeddings[lookup[word]]\n",
    "    test_sentence_embeddings[i] /= len(sentence)"
   ]
  },
  {
   "cell_type": "code",
   "execution_count": 641,
   "id": "10bd9c1b",
   "metadata": {},
   "outputs": [],
   "source": [
    "# evaluate model on test set\n",
    "test_out = topic_classifier(torch.tensor(test_sentence_embeddings).to(torch.float32)).detach().numpy()"
   ]
  },
  {
   "cell_type": "code",
   "execution_count": 642,
   "id": "30d6f886",
   "metadata": {},
   "outputs": [
    {
     "data": {
      "text/plain": [
       "0.8068421052631579"
      ]
     },
     "execution_count": 642,
     "metadata": {},
     "output_type": "execute_result"
    }
   ],
   "source": [
    "(np.argmax(test_out, axis=1) == (np.asarray(test_df['Class Index'])-1)).mean()"
   ]
  },
  {
   "cell_type": "code",
   "execution_count": 650,
   "id": "1cb2b84e",
   "metadata": {},
   "outputs": [
    {
     "data": {
      "image/png": "[encoded data removed]",
      "text/plain": [
       "<Figure size 640x480 with 2 Axes>"
      ]
     },
     "metadata": {},
     "output_type": "display_data"
    }
   ],
   "source": [
    "# confusion matrix\n",
    "cm = confusion_matrix(np.asarray(test_df['Class Index'])-1, np.argmax(test_out, axis=1))\n",
    "visual = ConfusionMatrixDisplay(confusion_matrix = cm, display_labels = ['World', 'Sports', 'Business', 'Science/Tech'])\n",
    "visual.plot()\n",
    "plt.show()"
   ]
  },
  {
   "cell_type": "code",
   "execution_count": null,
   "id": "f5c79041",
   "metadata": {},
   "outputs": [],
   "source": []
  }
 ],
 "metadata": {
  "kernelspec": {
   "display_name": "Python 3 (ipykernel)",
   "language": "python",
   "name": "python3"
  },
  "language_info": {
   "codemirror_mode": {
    "name": "ipython",
    "version": 3
   },
   "file_extension": ".py",
   "mimetype": "text/x-python",
   "name": "python",
   "nbconvert_exporter": "python",
   "pygments_lexer": "ipython3",
   "version": "3.9.13"
  }
 },
 "nbformat": 4,
 "nbformat_minor": 5
}
